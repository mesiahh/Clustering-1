{
 "cells": [
  {
   "cell_type": "markdown",
   "id": "f4c68cd5",
   "metadata": {},
   "source": [
    "***Target Trial Emulation in R***"
   ]
  },
  {
   "cell_type": "markdown",
   "id": "fb1293ec",
   "metadata": {},
   "source": [
    "**by Alan Yang**\n",
    "\n",
    "**Re-Written by: Laurenz Mesiah A. Palanas & Emily Rose Escartin**"
   ]
  },
  {
   "cell_type": "markdown",
   "id": "7d2dce34",
   "metadata": {},
   "source": [
    "This tutorial outlines the steps for implementing a Target Trial Emulation in R using the TrialEmulation package.\n",
    "\n",
    "The process begins by defining the estimand, such as **intention-to-treat (ITT)** or **per-protocol (PP)**, and preparing observational data with specified columns for treatment, outcomes, and eligibility.\n",
    "\n",
    "Censoring mechanisms, including **treatment switching** and **informative censoring**, are addressed using inverse probability of censoring weights (IPCW). Separate models are fitted to calculate these weights and adjust for biases.\n",
    "\n",
    "The workflow proceeds to **expand the observational dataset** into a sequence of trials using pre-defined expansion options, creating trial-specific datasets. These datasets are then loaded and sampled for analysis.\n",
    "\n",
    "A **marginal structural model (MSM)** is fit to estimate the causal effects. Predictions, such as survival probabilities and cumulative incidences, are generated for different treatment scenarios. The results are visualized to show survival differences over time, enabling meaningful inference on the treatment effects."
   ]
  },
  {
   "cell_type": "markdown",
   "id": "ab8f2068",
   "metadata": {},
   "source": [
    "***1. Setup***\n",
    "\n",
    "First check if the version of R is updated"
   ]
  },
  {
   "cell_type": "code",
   "execution_count": 13,
   "id": "72451adc",
   "metadata": {
    "vscode": {
     "languageId": "r"
    }
   },
   "outputs": [
    {
     "data": {
      "text/html": [
       "'R version 4.4.3 (2025-02-28 ucrt)'"
      ],
      "text/latex": [
       "'R version 4.4.3 (2025-02-28 ucrt)'"
      ],
      "text/markdown": [
       "'R version 4.4.3 (2025-02-28 ucrt)'"
      ],
      "text/plain": [
       "[1] \"R version 4.4.3 (2025-02-28 ucrt)\""
      ]
     },
     "metadata": {},
     "output_type": "display_data"
    }
   ],
   "source": [
    "R.version.string"
   ]
  },
  {
   "cell_type": "markdown",
   "id": "bc406a67",
   "metadata": {},
   "source": [
    "then, install the packages of TrialEmulation"
   ]
  },
  {
   "cell_type": "code",
   "execution_count": 10,
   "id": "b642bcee",
   "metadata": {
    "vscode": {
     "languageId": "r"
    }
   },
   "outputs": [
    {
     "name": "stderr",
     "output_type": "stream",
     "text": [
      "Installing package into 'C:/Users/laure/AppData/Local/R/win-library/4.4'\n",
      "(as 'lib' is unspecified)\n",
      "\n"
     ]
    },
    {
     "name": "stdout",
     "output_type": "stream",
     "text": [
      "package 'TrialEmulation' successfully unpacked and MD5 sums checked\n",
      "\n",
      "The downloaded binary packages are in\n",
      "\tC:\\Users\\laure\\AppData\\Local\\Temp\\RtmpEtvYlD\\downloaded_packages\n"
     ]
    }
   ],
   "source": [
    "install.packages(\"TrialEmulation\")"
   ]
  },
  {
   "cell_type": "markdown",
   "id": "f5628e82",
   "metadata": {},
   "source": [
    "After installation, load the package:"
   ]
  },
  {
   "cell_type": "code",
   "execution_count": 12,
   "id": "efd1f5f9",
   "metadata": {
    "vscode": {
     "languageId": "r"
    }
   },
   "outputs": [],
   "source": [
    "library(TrialEmulation)"
   ]
  },
  {
   "cell_type": "markdown",
   "id": "60d66f94",
   "metadata": {},
   "source": [
    "A sequence of target trials analysis starts by specifying which estimand will be used:"
   ]
  },
  {
   "cell_type": "code",
   "execution_count": 15,
   "id": "ce55298b",
   "metadata": {
    "vscode": {
     "languageId": "r"
    }
   },
   "outputs": [],
   "source": [
    "trial_pp  <- trial_sequence(estimand = \"PP\")  # Per-protocol\n",
    "\n",
    "trial_itt <- trial_sequence(estimand = \"ITT\") # Intention-to-treat"
   ]
  },
  {
   "cell_type": "markdown",
   "id": "669f5fbb",
   "metadata": {},
   "source": [
    "Additionally it is useful to create a directory to save files for later inspection."
   ]
  },
  {
   "cell_type": "code",
   "execution_count": null,
   "id": "4f213e5b",
   "metadata": {
    "vscode": {
     "languageId": "r"
    }
   },
   "outputs": [],
   "source": [
    "trial_pp_dir  <- file.path(tempdir(), \"trial_pp\")\n",
    "dir.create(trial_pp_dir)\n",
    "\n",
    "trial_itt_dir <- file.path(tempdir(), \"trial_itt\")\n",
    "dir.create(trial_itt_dir)"
   ]
  },
  {
   "cell_type": "markdown",
   "id": "55e5c4c8",
   "metadata": {},
   "source": [
    "***2. Data preparation***"
   ]
  },
  {
   "cell_type": "markdown",
   "id": "e8b53739",
   "metadata": {},
   "source": [
    "Next the user must specify the observational input data that will be used for the target trial emulation. Here we need to specify which columns contain which values and how they should be used."
   ]
  },
  {
   "cell_type": "code",
   "execution_count": 16,
   "id": "a09efcb8",
   "metadata": {
    "vscode": {
     "languageId": "r"
    }
   },
   "outputs": [
    {
     "data": {
      "text/html": [
       "<table class=\"dataframe\">\n",
       "<caption>A data.frame: 6 × 12</caption>\n",
       "<thead>\n",
       "\t<tr><th></th><th scope=col>id</th><th scope=col>period</th><th scope=col>treatment</th><th scope=col>x1</th><th scope=col>x2</th><th scope=col>x3</th><th scope=col>x4</th><th scope=col>age</th><th scope=col>age_s</th><th scope=col>outcome</th><th scope=col>censored</th><th scope=col>eligible</th></tr>\n",
       "\t<tr><th></th><th scope=col>&lt;int&gt;</th><th scope=col>&lt;int&gt;</th><th scope=col>&lt;dbl&gt;</th><th scope=col>&lt;dbl&gt;</th><th scope=col>&lt;dbl&gt;</th><th scope=col>&lt;int&gt;</th><th scope=col>&lt;dbl&gt;</th><th scope=col>&lt;dbl&gt;</th><th scope=col>&lt;dbl&gt;</th><th scope=col>&lt;dbl&gt;</th><th scope=col>&lt;int&gt;</th><th scope=col>&lt;dbl&gt;</th></tr>\n",
       "</thead>\n",
       "<tbody>\n",
       "\t<tr><th scope=row>1</th><td>1</td><td>0</td><td>1</td><td>1</td><td> 1.146148362</td><td>0</td><td>0.734203</td><td>36</td><td>0.08333333</td><td>0</td><td>0</td><td>1</td></tr>\n",
       "\t<tr><th scope=row>2</th><td>1</td><td>1</td><td>1</td><td>1</td><td> 0.002200337</td><td>0</td><td>0.734203</td><td>37</td><td>0.16666667</td><td>0</td><td>0</td><td>0</td></tr>\n",
       "\t<tr><th scope=row>3</th><td>1</td><td>2</td><td>1</td><td>0</td><td>-0.481762418</td><td>0</td><td>0.734203</td><td>38</td><td>0.25000000</td><td>0</td><td>0</td><td>0</td></tr>\n",
       "\t<tr><th scope=row>4</th><td>1</td><td>3</td><td>1</td><td>0</td><td> 0.007872396</td><td>0</td><td>0.734203</td><td>39</td><td>0.33333333</td><td>0</td><td>0</td><td>0</td></tr>\n",
       "\t<tr><th scope=row>5</th><td>1</td><td>4</td><td>1</td><td>1</td><td> 0.216053715</td><td>0</td><td>0.734203</td><td>40</td><td>0.41666667</td><td>0</td><td>0</td><td>0</td></tr>\n",
       "\t<tr><th scope=row>6</th><td>1</td><td>5</td><td>1</td><td>0</td><td>-0.057481504</td><td>0</td><td>0.734203</td><td>41</td><td>0.50000000</td><td>0</td><td>1</td><td>0</td></tr>\n",
       "</tbody>\n",
       "</table>\n"
      ],
      "text/latex": [
       "A data.frame: 6 × 12\n",
       "\\begin{tabular}{r|llllllllllll}\n",
       "  & id & period & treatment & x1 & x2 & x3 & x4 & age & age\\_s & outcome & censored & eligible\\\\\n",
       "  & <int> & <int> & <dbl> & <dbl> & <dbl> & <int> & <dbl> & <dbl> & <dbl> & <dbl> & <int> & <dbl>\\\\\n",
       "\\hline\n",
       "\t1 & 1 & 0 & 1 & 1 &  1.146148362 & 0 & 0.734203 & 36 & 0.08333333 & 0 & 0 & 1\\\\\n",
       "\t2 & 1 & 1 & 1 & 1 &  0.002200337 & 0 & 0.734203 & 37 & 0.16666667 & 0 & 0 & 0\\\\\n",
       "\t3 & 1 & 2 & 1 & 0 & -0.481762418 & 0 & 0.734203 & 38 & 0.25000000 & 0 & 0 & 0\\\\\n",
       "\t4 & 1 & 3 & 1 & 0 &  0.007872396 & 0 & 0.734203 & 39 & 0.33333333 & 0 & 0 & 0\\\\\n",
       "\t5 & 1 & 4 & 1 & 1 &  0.216053715 & 0 & 0.734203 & 40 & 0.41666667 & 0 & 0 & 0\\\\\n",
       "\t6 & 1 & 5 & 1 & 0 & -0.057481504 & 0 & 0.734203 & 41 & 0.50000000 & 0 & 1 & 0\\\\\n",
       "\\end{tabular}\n"
      ],
      "text/markdown": [
       "\n",
       "A data.frame: 6 × 12\n",
       "\n",
       "| <!--/--> | id &lt;int&gt; | period &lt;int&gt; | treatment &lt;dbl&gt; | x1 &lt;dbl&gt; | x2 &lt;dbl&gt; | x3 &lt;int&gt; | x4 &lt;dbl&gt; | age &lt;dbl&gt; | age_s &lt;dbl&gt; | outcome &lt;dbl&gt; | censored &lt;int&gt; | eligible &lt;dbl&gt; |\n",
       "|---|---|---|---|---|---|---|---|---|---|---|---|---|\n",
       "| 1 | 1 | 0 | 1 | 1 |  1.146148362 | 0 | 0.734203 | 36 | 0.08333333 | 0 | 0 | 1 |\n",
       "| 2 | 1 | 1 | 1 | 1 |  0.002200337 | 0 | 0.734203 | 37 | 0.16666667 | 0 | 0 | 0 |\n",
       "| 3 | 1 | 2 | 1 | 0 | -0.481762418 | 0 | 0.734203 | 38 | 0.25000000 | 0 | 0 | 0 |\n",
       "| 4 | 1 | 3 | 1 | 0 |  0.007872396 | 0 | 0.734203 | 39 | 0.33333333 | 0 | 0 | 0 |\n",
       "| 5 | 1 | 4 | 1 | 1 |  0.216053715 | 0 | 0.734203 | 40 | 0.41666667 | 0 | 0 | 0 |\n",
       "| 6 | 1 | 5 | 1 | 0 | -0.057481504 | 0 | 0.734203 | 41 | 0.50000000 | 0 | 1 | 0 |\n",
       "\n"
      ],
      "text/plain": [
       "  id period treatment x1 x2           x3 x4       age age_s      outcome\n",
       "1 1  0      1         1   1.146148362 0  0.734203 36  0.08333333 0      \n",
       "2 1  1      1         1   0.002200337 0  0.734203 37  0.16666667 0      \n",
       "3 1  2      1         0  -0.481762418 0  0.734203 38  0.25000000 0      \n",
       "4 1  3      1         0   0.007872396 0  0.734203 39  0.33333333 0      \n",
       "5 1  4      1         1   0.216053715 0  0.734203 40  0.41666667 0      \n",
       "6 1  5      1         0  -0.057481504 0  0.734203 41  0.50000000 0      \n",
       "  censored eligible\n",
       "1 0        1       \n",
       "2 0        0       \n",
       "3 0        0       \n",
       "4 0        0       \n",
       "5 0        0       \n",
       "6 1        0       "
      ]
     },
     "metadata": {},
     "output_type": "display_data"
    }
   ],
   "source": [
    "data(\"data_censored\") # dummy data in the package\n",
    "head(data_censored)"
   ]
  },
  {
   "cell_type": "code",
   "execution_count": 17,
   "id": "7ce14cd2",
   "metadata": {
    "vscode": {
     "languageId": "r"
    }
   },
   "outputs": [],
   "source": [
    "# Per-protocol\n",
    "trial_pp <- trial_pp |>\n",
    "  set_data(\n",
    "    data      = data_censored,\n",
    "    id        = \"id\",\n",
    "    period    = \"period\",\n",
    "    treatment = \"treatment\",\n",
    "    outcome   = \"outcome\",\n",
    "    eligible  = \"eligible\"\n",
    "  )\n",
    "\n",
    "# ITT\n",
    "# Function style without pipes\n",
    "trial_itt <- set_data( \n",
    "  trial_itt,\n",
    "  data      = data_censored,\n",
    "  id        = \"id\",\n",
    "  period    = \"period\",\n",
    "  treatment = \"treatment\",\n",
    "  outcome   = \"outcome\",\n",
    "  eligible  = \"eligible\"\n",
    ")"
   ]
  },
  {
   "cell_type": "code",
   "execution_count": 18,
   "id": "a48f29de",
   "metadata": {
    "vscode": {
     "languageId": "r"
    }
   },
   "outputs": [
    {
     "data": {
      "text/plain": [
       "Trial Sequence Object \n",
       "Estimand: Intention-to-treat \n",
       " \n",
       "Data: \n",
       " - N: 725 observations from 89 patients \n",
       "        id period treatment    x1           x2    x3        x4   age      age_s\n",
       "     <int>  <int>     <num> <num>        <num> <int>     <num> <num>      <num>\n",
       "  1:     1      0         1     1  1.146148362     0 0.7342030    36 0.08333333\n",
       "  2:     1      1         1     1  0.002200337     0 0.7342030    37 0.16666667\n",
       " ---                                                                           \n",
       "724:    99      6         1     1 -0.033762356     1 0.5752681    71 3.00000000\n",
       "725:    99      7         0     0 -1.340496520     1 0.5752681    72 3.08333333\n",
       "     outcome censored eligible time_on_regime\n",
       "       <num>    <int>    <num>          <num>\n",
       "  1:       0        0        1              0\n",
       "  2:       0        0        0              1\n",
       " ---                                         \n",
       "724:       0        0        0              1\n",
       "725:       1        0        0              2\n",
       " \n",
       "IPW for informative censoring: \n",
       " - No weight model specified \n",
       " \n",
       "Sequence of Trials Data: \n",
       "- Use set_expansion_options() and expand_trials() to construct the sequence of trials dataset. \n",
       " \n",
       "Outcome model: \n",
       " - Outcome model not specified. Use set_outcome_model() "
      ]
     },
     "metadata": {},
     "output_type": "display_data"
    }
   ],
   "source": [
    "trial_itt"
   ]
  },
  {
   "cell_type": "markdown",
   "id": "336ac49e",
   "metadata": {},
   "source": [
    "***3. Weight models and censoring***\n",
    "\n",
    "To adjust for the effects of informative censoring, inverse probability of censoring weights (IPCW) can be applied. To estimate these weights, we construct time-to-(censoring) event models. Two sets of models are fit for the two censoring mechanisms which may apply: censoring due to deviation from assigned treatment and other informative censoring."
   ]
  },
  {
   "cell_type": "markdown",
   "id": "e4a42707",
   "metadata": {},
   "source": [
    "***3.1 Censoring due to treatment switching***\n",
    "\n",
    "We specify model formulas to be used for calculating the probability of receiving treatment in the current period. Separate models are fitted for patients who had treatment = 1 and those who had treatment = 0 in the previous period. Stabilized weights are used by fitting numerator and denominator models.\n",
    "\n",
    "There are optional arguments to specify columns which can include/exclude observations from the treatment models. These are used in case it is not possible for a patient to deviate from a certain treatment assignment in that period."
   ]
  },
  {
   "cell_type": "code",
   "execution_count": 19,
   "id": "26bdc9f0",
   "metadata": {
    "vscode": {
     "languageId": "r"
    }
   },
   "outputs": [
    {
     "ename": "ERROR",
     "evalue": "Error: object 'trial_pp_dir' not found\n",
     "output_type": "error",
     "traceback": [
      "Error: object 'trial_pp_dir' not found\nTraceback:\n",
      "1. set_switch_weight_model(trial_pp, numerator = ~age, denominator = ~age + \n .     x1 + x3, model_fitter = stats_glm_logit(save_path = file.path(trial_pp_dir, \n .     \"switch_models\")))",
      "2. .local(object, numerator, denominator, model_fitter, ...)",
      "3. new(\"te_weights_spec\", numerator = numerator, denominator = denominator, \n .     model_fitter = model_fitter)",
      "4. initialize(value, ...)",
      "5. initialize(value, ...)",
      "6. stats_glm_logit(save_path = file.path(trial_pp_dir, \"switch_models\"))",
      "7. file.path(trial_pp_dir, \"switch_models\")",
      "8. .handleSimpleError(function (cnd) \n . {\n .     watcher$capture_plot_and_output()\n .     cnd <- sanitize_call(cnd)\n .     watcher$push(cnd)\n .     switch(on_error, continue = invokeRestart(\"eval_continue\"), \n .         stop = invokeRestart(\"eval_stop\"), error = NULL)\n . }, \"object 'trial_pp_dir' not found\", base::quote(eval(expr, \n .     envir)))"
     ]
    }
   ],
   "source": [
    "trial_pp <- trial_pp |>\n",
    "  set_switch_weight_model(\n",
    "    numerator    = ~ age,\n",
    "    denominator  = ~ age + x1 + x3,\n",
    "    model_fitter = stats_glm_logit(save_path = file.path(trial_pp_dir, \"switch_models\"))\n",
    "  )\n",
    "trial_pp@switch_weights"
   ]
  },
  {
   "cell_type": "markdown",
   "id": "2e4849b9",
   "metadata": {},
   "source": [
    "***3.2 Other informative censoring***\n",
    "\n",
    "In case there is other informative censoring occurring in the data, we can create similar models to estimate the IPCW. These can be used with all types of estimand. We need to specifycensor_event which is the column containing the censoring indicator."
   ]
  },
  {
   "cell_type": "code",
   "execution_count": 20,
   "id": "337db1cc",
   "metadata": {
    "vscode": {
     "languageId": "r"
    }
   },
   "outputs": [
    {
     "ename": "ERROR",
     "evalue": "Error: object 'trial_pp_dir' not found\n",
     "output_type": "error",
     "traceback": [
      "Error: object 'trial_pp_dir' not found\nTraceback:\n",
      "1. set_censor_weight_model(trial_pp, censor_event = \"censored\", \n .     numerator = ~x2, denominator = ~x2 + x1, pool_models = \"none\", \n .     model_fitter = stats_glm_logit(save_path = file.path(trial_pp_dir, \n .         \"switch_models\")))",
      "2. callNextMethod()",
      "3. .nextMethod(object = object, censor_event = censor_event, numerator = numerator, \n .     denominator = denominator, pool_models = pool_models, model_fitter = model_fitter)",
      "4. assert_class(model_fitter, \"te_model_fitter\")",
      "5. checkClass(x, classes, ordered, null.ok)",
      "6. stats_glm_logit(save_path = file.path(trial_pp_dir, \"switch_models\"))",
      "7. file.path(trial_pp_dir, \"switch_models\")",
      "8. .handleSimpleError(function (cnd) \n . {\n .     watcher$capture_plot_and_output()\n .     cnd <- sanitize_call(cnd)\n .     watcher$push(cnd)\n .     switch(on_error, continue = invokeRestart(\"eval_continue\"), \n .         stop = invokeRestart(\"eval_stop\"), error = NULL)\n . }, \"object 'trial_pp_dir' not found\", base::quote(eval(expr, \n .     envir)))"
     ]
    }
   ],
   "source": [
    "trial_pp <- trial_pp |>\n",
    "  set_censor_weight_model(\n",
    "    censor_event = \"censored\",\n",
    "    numerator    = ~ x2,\n",
    "    denominator  = ~ x2 + x1,\n",
    "    pool_models  = \"none\",\n",
    "    model_fitter = stats_glm_logit(save_path = file.path(trial_pp_dir, \"switch_models\"))\n",
    "  )\n",
    "trial_pp@censor_weights"
   ]
  },
  {
   "cell_type": "code",
   "execution_count": 21,
   "id": "8d73a316",
   "metadata": {
    "vscode": {
     "languageId": "r"
    }
   },
   "outputs": [
    {
     "ename": "ERROR",
     "evalue": "Error: object 'trial_itt_dir' not found\n",
     "output_type": "error",
     "traceback": [
      "Error: object 'trial_itt_dir' not found\nTraceback:\n",
      "1. set_censor_weight_model(trial_itt, censor_event = \"censored\", \n .     numerator = ~x2, denominator = ~x2 + x1, pool_models = \"numerator\", \n .     model_fitter = stats_glm_logit(save_path = file.path(trial_itt_dir, \n .         \"switch_models\")))",
      "2. callNextMethod()",
      "3. .nextMethod(object = object, censor_event = censor_event, numerator = numerator, \n .     denominator = denominator, pool_models = pool_models, model_fitter = model_fitter)",
      "4. assert_class(model_fitter, \"te_model_fitter\")",
      "5. checkClass(x, classes, ordered, null.ok)",
      "6. stats_glm_logit(save_path = file.path(trial_itt_dir, \"switch_models\"))",
      "7. file.path(trial_itt_dir, \"switch_models\")",
      "8. .handleSimpleError(function (cnd) \n . {\n .     watcher$capture_plot_and_output()\n .     cnd <- sanitize_call(cnd)\n .     watcher$push(cnd)\n .     switch(on_error, continue = invokeRestart(\"eval_continue\"), \n .         stop = invokeRestart(\"eval_stop\"), error = NULL)\n . }, \"object 'trial_itt_dir' not found\", base::quote(eval(expr, \n .     envir)))"
     ]
    }
   ],
   "source": [
    "trial_itt <- set_censor_weight_model(\n",
    "  trial_itt,\n",
    "  censor_event = \"censored\",\n",
    "  numerator    = ~x2,\n",
    "  denominator  = ~ x2 + x1,\n",
    "  pool_models  = \"numerator\",\n",
    "  model_fitter = stats_glm_logit(save_path = file.path(trial_itt_dir, \"switch_models\"))\n",
    ")\n",
    "trial_itt@censor_weights"
   ]
  },
  {
   "cell_type": "markdown",
   "id": "7174fd41",
   "metadata": {},
   "source": [
    "***4. Calculate Weights***\n",
    "\n",
    "Next we need to fit the individual models and combine them into weights. This is done with calculate_weights()."
   ]
  },
  {
   "cell_type": "code",
   "execution_count": 43,
   "id": "b9e8bd48",
   "metadata": {
    "vscode": {
     "languageId": "r"
    }
   },
   "outputs": [],
   "source": [
    "trial_pp_dir  <- file.path(tempdir(), \"trial_pp\") # Define a save directory\n",
    "dir.create(trial_pp_dir, showWarnings = FALSE)    # Create the directory if it doesn't exist\n",
    "\n",
    "trial_pp <- trial_pp |> set_switch_weight_model(\n",
    "    numerator    = ~ age,         \n",
    "    denominator  = ~ age + x1 + x3, \n",
    "    model_fitter = stats_glm_logit(save_path = file.path(trial_pp_dir, \"switch_models\")) \n",
    ")\n",
    "\n",
    "trial_itt <- set_censor_weight_model(\n",
    "    trial_itt,\n",
    "    censor_event = \"censored\",\n",
    "    numerator    = ~ x2,\n",
    "    denominator  = ~ x2 + x1,\n",
    "    pool_models  = \"numerator\",\n",
    "    model_fitter = stats_glm_logit(save_path = file.path(trial_pp_dir, \"censor_models\"))\n",
    ")\n",
    "\n",
    "trial_pp <- trial_pp |> set_censor_weight_model(\n",
    "    censor_event = \"censored\",\n",
    "    numerator    = ~ x2,         # Variables in numerator model\n",
    "    denominator  = ~ x2 + x1,    # Variables in denominator model\n",
    "    pool_models  = \"none\",       # No pooling\n",
    "    model_fitter = stats_glm_logit(save_path = file.path(trial_pp_dir, \"censor_models\"))\n",
    ")\n",
    "\n",
    "\n",
    "\n",
    "\n",
    "\n",
    "trial_pp  <- trial_pp |> calculate_weights()\n",
    "trial_itt <- calculate_weights(trial_itt)\n"
   ]
  },
  {
   "cell_type": "markdown",
   "id": "90ac2b75",
   "metadata": {},
   "source": [
    "The full model objects are saved to disk in the directories we created above. The summaries are stored in the trial sequence object and can be printed:"
   ]
  },
  {
   "cell_type": "code",
   "execution_count": 44,
   "id": "de5eeb02",
   "metadata": {
    "vscode": {
     "languageId": "r"
    }
   },
   "outputs": [
    {
     "name": "stdout",
     "output_type": "stream",
     "text": [
      "Weight Models for Informative Censoring\n",
      "---------------------------------------\n",
      "\n",
      "[[n]]\n",
      "Model: P(censor_event = 0 | X) for numerator \n",
      " \n",
      " term        estimate   std.error statistic p.value     \n",
      " (Intercept)  2.4480907 0.1405726 17.415128 6.334656e-68\n",
      " x2          -0.4486482 0.1368765 -3.277759 1.046346e-03\n",
      " \n",
      " null.deviance df.null logLik    AIC      BIC      deviance df.residual nobs\n",
      " 404.2156      724     -196.7002 397.4004 406.5727 393.4004 723         725 \n",
      " \n",
      " path                                                                                            \n",
      " C:\\\\Users\\\\laure\\\\AppData\\\\Local\\\\Temp\\\\RtmpEtvYlD/trial_pp/censor_models\\\\model_4f8cba3674b.rds\n",
      " \n",
      "[[d0]]\n",
      "Model: P(censor_event = 0 | X, previous treatment = 0) for denominator \n",
      " \n",
      " term        estimate   std.error statistic p.value     \n",
      " (Intercept)  1.8941961 0.2071122  9.145746 5.921948e-20\n",
      " x2          -0.5898292 0.1693402 -3.483101 4.956409e-04\n",
      " x1           0.8552603 0.3452930  2.476912 1.325247e-02\n",
      " \n",
      " null.deviance df.null logLik    AIC      BIC      deviance df.residual nobs\n",
      " 283.0723      425     -132.1655 270.3309 282.4943 264.3309 423         426 \n",
      " \n",
      " path                                                                                             \n",
      " C:\\\\Users\\\\laure\\\\AppData\\\\Local\\\\Temp\\\\RtmpEtvYlD/trial_pp/censor_models\\\\model_4f8c4bbd5d97.rds\n",
      " \n",
      "[[d1]]\n",
      "Model: P(censor_event = 0 | X, previous treatment = 1) for denominator \n",
      " \n",
      " term        estimate    std.error statistic  p.value     \n",
      " (Intercept)  2.81443372 0.3122688  9.0128570 2.007570e-19\n",
      " x2          -0.03713196 0.2699579 -0.1375472 8.905983e-01\n",
      " x1           0.89351418 0.7771954  1.1496648 2.502819e-01\n",
      " \n",
      " null.deviance df.null logLik    AIC      BIC      deviance df.residual nobs\n",
      " 113.0528      298     -55.72938 117.4588 128.5601 111.4588 296         299 \n",
      " \n",
      " path                                                                                             \n",
      " C:\\\\Users\\\\laure\\\\AppData\\\\Local\\\\Temp\\\\RtmpEtvYlD/trial_pp/censor_models\\\\model_4f8c3a273f0a.rds\n",
      " \n"
     ]
    }
   ],
   "source": [
    "show_weight_models(trial_itt)"
   ]
  },
  {
   "cell_type": "code",
   "execution_count": 45,
   "id": "406db55e",
   "metadata": {
    "vscode": {
     "languageId": "r"
    }
   },
   "outputs": [
    {
     "name": "stdout",
     "output_type": "stream",
     "text": [
      "Weight Models for Informative Censoring\n",
      "---------------------------------------\n",
      "\n",
      "[[n0]]\n",
      "Model: P(censor_event = 0 | X, previous treatment = 0) for numerator \n",
      " \n",
      " term        estimate   std.error statistic p.value     \n",
      " (Intercept)  1.4026538 0.1993673  7.035525 1.985118e-12\n",
      " x2          -0.5436594 0.2075654 -2.619220 8.813109e-03\n",
      " \n",
      " null.deviance df.null logLik    AIC     BIC      deviance df.residual nobs\n",
      " 172.8729      169     -82.81349 169.627 175.8986 165.627  168         170 \n",
      " \n",
      " path                                                                                            \n",
      " C:\\\\Users\\\\laure\\\\AppData\\\\Local\\\\Temp\\\\RtmpEtvYlD/trial_pp/censor_models\\\\model_4f8c237d2f9.rds\n",
      " \n",
      "[[n1]]\n",
      "Model: P(censor_event = 0 | X, previous treatment = 1) for numerator \n",
      " \n",
      " term        estimate   std.error statistic  p.value     \n",
      " (Intercept)  2.7365126 0.3465786  7.8957919 2.884776e-15\n",
      " x2          -0.1259467 0.3527451 -0.3570472 7.210564e-01\n",
      " \n",
      " null.deviance df.null logLik    AIC      BIC      deviance df.residual nobs\n",
      " 68.21358      150     -34.04272 72.08543 78.11999 68.08543 149         151 \n",
      " \n",
      " path                                                                                             \n",
      " C:\\\\Users\\\\laure\\\\AppData\\\\Local\\\\Temp\\\\RtmpEtvYlD/trial_pp/censor_models\\\\model_4f8c34813f61.rds\n",
      " \n",
      "[[d0]]\n",
      "Model: P(censor_event = 0 | X, previous treatment = 0) for denominator \n",
      " \n",
      " term        estimate   std.error statistic p.value     \n",
      " (Intercept)  1.0337903 0.2449150  4.221017 2.432028e-05\n",
      " x2          -0.6189556 0.2153087 -2.874735 4.043662e-03\n",
      " x1           0.9453986 0.4223668  2.238335 2.519919e-02\n",
      " \n",
      " null.deviance df.null logLik    AIC      BIC     deviance df.residual nobs\n",
      " 172.8729      169     -80.12832 166.2566 175.664 160.2566 167         170 \n",
      " \n",
      " path                                                                                            \n",
      " C:\\\\Users\\\\laure\\\\AppData\\\\Local\\\\Temp\\\\RtmpEtvYlD/trial_pp/censor_models\\\\model_4f8c5208b32.rds\n",
      " \n",
      "[[d1]]\n",
      "Model: P(censor_event = 0 | X, previous treatment = 1) for denominator \n",
      " \n",
      " term        estimate   std.error statistic  p.value     \n",
      " (Intercept)  2.5496142 0.3705515  6.8805941 5.960344e-12\n",
      " x2          -0.1571042 0.3463174 -0.4536422 6.500864e-01\n",
      " x1           1.0350346 1.0806645  0.9577761 3.381757e-01\n",
      " \n",
      " null.deviance df.null logLik    AIC      BIC      deviance df.residual nobs\n",
      " 68.21358      150     -33.46038 72.92075 81.97259 66.92075 148         151 \n",
      " \n",
      " path                                                                                             \n",
      " C:\\\\Users\\\\laure\\\\AppData\\\\Local\\\\Temp\\\\RtmpEtvYlD/trial_pp/censor_models\\\\model_4f8c2b8a4970.rds\n",
      " \n",
      "Weight Models for Treatment Switching\n",
      "-------------------------------------\n",
      "\n",
      "[[n1]]\n",
      "Model: P(treatment = 1 | previous treatment = 1) for numerator \n",
      " \n",
      " term        estimate    std.error  statistic p.value   \n",
      " (Intercept)  1.80162178 0.77463133  2.325780 0.02003031\n",
      " age         -0.02351116 0.01691961 -1.389581 0.16465623\n",
      " \n",
      " null.deviance df.null logLik    AIC      BIC      deviance df.residual nobs\n",
      " 188.829       150     -93.43779 190.8756 196.9101 186.8756 149         151 \n",
      " \n",
      " path                                                                                             \n",
      " C:\\\\Users\\\\laure\\\\AppData\\\\Local\\\\Temp\\\\RtmpEtvYlD/trial_pp/switch_models\\\\model_4f8c22aa14b1.rds\n",
      " \n",
      "[[d1]]\n",
      "Model: P(treatment = 1 | previous treatment = 1) for denominator \n",
      " \n",
      " term        estimate    std.error  statistic  p.value   \n",
      " (Intercept)  1.55485166 0.81706997  1.9029602 0.05704573\n",
      " age         -0.02312027 0.01696843 -1.3625460 0.17302562\n",
      " x1           0.52915871 0.43594855  1.2138100 0.22482028\n",
      " x3           0.21319587 0.35744378  0.5964459 0.55087740\n",
      " \n",
      " null.deviance df.null logLik    AIC      BIC      deviance df.residual nobs\n",
      " 188.829       150     -92.54787 193.0957 205.1649 185.0957 147         151 \n",
      " \n",
      " path                                                                                             \n",
      " C:\\\\Users\\\\laure\\\\AppData\\\\Local\\\\Temp\\\\RtmpEtvYlD/trial_pp/switch_models\\\\model_4f8c471a4fd0.rds\n",
      " \n",
      "[[n0]]\n",
      "Model: P(treatment = 1 | previous treatment = 0) for numerator \n",
      " \n",
      " term        estimate    std.error  statistic p.value   \n",
      " (Intercept)  1.09212298 0.60582678  1.802698 0.07143559\n",
      " age         -0.03360404 0.01439482 -2.334453 0.01957201\n",
      " \n",
      " null.deviance df.null logLik    AIC      BIC      deviance df.residual nobs\n",
      " 232.2705      169     -113.2746 230.5492 236.8208 226.5492 168         170 \n",
      " \n",
      " path                                                                                            \n",
      " C:\\\\Users\\\\laure\\\\AppData\\\\Local\\\\Temp\\\\RtmpEtvYlD/trial_pp/switch_models\\\\model_4f8c698b5b5.rds\n",
      " \n",
      "[[d0]]\n",
      "Model: P(treatment = 1 | previous treatment = 0) for denominator \n",
      " \n",
      " term        estimate    std.error  statistic  p.value   \n",
      " (Intercept)  1.03084683 0.63052714  1.6348969 0.10207067\n",
      " age         -0.03633255 0.01472576 -2.4672779 0.01361446\n",
      " x1           0.64473751 0.32346837  1.9932011 0.04623943\n",
      " x3          -0.23411026 0.32147930 -0.7282281 0.46647397\n",
      " \n",
      " null.deviance df.null logLik  AIC    BIC      deviance df.residual nobs\n",
      " 232.2705      169     -111.03 230.06 242.6032 222.06   166         170 \n",
      " \n",
      " path                                                                                             \n",
      " C:\\\\Users\\\\laure\\\\AppData\\\\Local\\\\Temp\\\\RtmpEtvYlD/trial_pp/switch_models\\\\model_4f8c26561184.rds\n",
      " \n"
     ]
    }
   ],
   "source": [
    "show_weight_models(trial_pp)"
   ]
  },
  {
   "cell_type": "markdown",
   "id": "54f6d014",
   "metadata": {},
   "source": [
    "***5. Specify Outcome Model***\n",
    "\n",
    "Now we can specify the outcome model. Here we can include adjustment terms for any variables in the dataset. The numerator terms from the stabilised weight models are automatically included in the outcome model formula."
   ]
  },
  {
   "cell_type": "code",
   "execution_count": 46,
   "id": "6bc7d96a",
   "metadata": {
    "vscode": {
     "languageId": "r"
    }
   },
   "outputs": [],
   "source": [
    "trial_pp  <- set_outcome_model(trial_pp)\n",
    "trial_itt <- set_outcome_model(trial_itt, adjustment_terms = ~x2)"
   ]
  },
  {
   "cell_type": "markdown",
   "id": "a5a5d287",
   "metadata": {},
   "source": [
    "***6. Expand Trials***\n",
    "\n",
    "Now we are ready to create the data set with all of the sequence of target trials."
   ]
  },
  {
   "cell_type": "code",
   "execution_count": 47,
   "id": "b983bb3e",
   "metadata": {
    "vscode": {
     "languageId": "r"
    }
   },
   "outputs": [],
   "source": [
    "trial_pp <- set_expansion_options(\n",
    "  trial_pp,\n",
    "  output     = save_to_datatable(),\n",
    "  chunk_size = 500 # the number of patients to include in each expansion iteration\n",
    ")\n",
    "trial_itt <- set_expansion_options(\n",
    "  trial_itt,\n",
    "  output     = save_to_datatable(),\n",
    "  chunk_size = 500\n",
    ")"
   ]
  },
  {
   "cell_type": "markdown",
   "id": "41ce6ef3",
   "metadata": {},
   "source": [
    "***6.1 Create Sequence of Trials Data***"
   ]
  },
  {
   "cell_type": "code",
   "execution_count": 48,
   "id": "66622eeb",
   "metadata": {
    "vscode": {
     "languageId": "r"
    }
   },
   "outputs": [],
   "source": [
    "trial_pp  <- expand_trials(trial_pp)\n",
    "trial_itt <- expand_trials(trial_itt)"
   ]
  },
  {
   "cell_type": "code",
   "execution_count": 49,
   "id": "97b32c3a",
   "metadata": {
    "vscode": {
     "languageId": "r"
    }
   },
   "outputs": [
    {
     "data": {
      "text/plain": [
       "Sequence of Trials Data: \n",
       "- Chunk size: 500 \n",
       "- Censor at switch: TRUE \n",
       "- First period: 0 | Last period: Inf \n",
       " \n",
       "A TE Datastore Datatable object \n",
       "N: 500 observations \n",
       "        id trial_period followup_time outcome    weight treatment         x2\n",
       "     <int>        <int>         <int>   <num>     <num>     <num>      <num>\n",
       "  1:     1            0             0       0 1.0000000         1  1.1461484\n",
       "  2:     1            0             1       0 0.8951447         1  1.1461484\n",
       " ---                                                                        \n",
       "499:    99            0             0       0 1.0000000         1 -0.3463778\n",
       "500:    99            0             1       0 1.0122336         1 -0.3463778\n",
       "       age assigned_treatment\n",
       "     <num>              <num>\n",
       "  1:    36                  1\n",
       "  2:    36                  1\n",
       " ---                         \n",
       "499:    65                  1\n",
       "500:    65                  1"
      ]
     },
     "metadata": {},
     "output_type": "display_data"
    }
   ],
   "source": [
    "trial_pp@expansion"
   ]
  },
  {
   "cell_type": "markdown",
   "id": "c5b86cf6",
   "metadata": {},
   "source": [
    "***7. Load or Sample from Expanded Data***\n",
    "\n",
    "Now that the expanded data has been created, we can prepare the data to fit the outcome model. For data that can fit comfortably in memory, this is a trivial step using load_expanded_data.\n",
    "\n",
    "For large datasets, it may be necessary to sample from the expanded by setting the p_control argument. This sets the probability that an observation with outcome == 0 will be included in the loaded data. A seed can be set for reproducibility. Additionally, a vector of periods to include can be specified, e.g., period = 1:60, and/or a subsetting condition, subset_condition = \"age > 65\"."
   ]
  },
  {
   "cell_type": "code",
   "execution_count": 50,
   "id": "62ae56db",
   "metadata": {
    "vscode": {
     "languageId": "r"
    }
   },
   "outputs": [],
   "source": [
    "trial_itt <- load_expanded_data(trial_itt, seed = 1234, p_control = 0.5)"
   ]
  },
  {
   "cell_type": "markdown",
   "id": "8e3e6dd1",
   "metadata": {},
   "source": [
    "***8. Fit Marginal Structural Model***\n",
    "\n",
    "To fit the outcome model we use fit_msm()."
   ]
  },
  {
   "cell_type": "code",
   "execution_count": 51,
   "id": "3cd4b6c1",
   "metadata": {
    "vscode": {
     "languageId": "r"
    }
   },
   "outputs": [
    {
     "name": "stderr",
     "output_type": "stream",
     "text": [
      "Warning message in eval(family$initialize):\n",
      "\"non-integer #successes in a binomial glm!\"\n",
      "Warning message:\n",
      "\"glm.fit: fitted probabilities numerically 0 or 1 occurred\"\n"
     ]
    }
   ],
   "source": [
    "trial_itt <- fit_msm(\n",
    "  trial_itt,\n",
    "  weight_cols    = c(\"weight\", \"sample_weight\"),\n",
    "  modify_weights = function(w) { # winsorization of extreme weights\n",
    "    q99 <- quantile(w, probs = 0.99)\n",
    "    pmin(w, q99)\n",
    "  }\n",
    ")"
   ]
  },
  {
   "cell_type": "markdown",
   "id": "c60dcd1c",
   "metadata": {},
   "source": [
    "Model summary:"
   ]
  },
  {
   "cell_type": "code",
   "execution_count": 52,
   "id": "858a4920",
   "metadata": {
    "vscode": {
     "languageId": "r"
    }
   },
   "outputs": [
    {
     "data": {
      "text/plain": [
       "- Formula: outcome ~ assigned_treatment + x2 + followup_time + I(followup_time^2) + trial_period + I(trial_period^2) \n",
       "- Treatment variable: assigned_treatment \n",
       "- Adjustment variables: x2 \n",
       "- Model fitter type: te_stats_glm_logit \n",
       " \n",
       "Model Summary: \n",
       " \n",
       " term               estimate std.error statistic p.value conf.low conf.high\n",
       " (Intercept)        -6.02    0.780      -7.72    1.2e-14 -7.550   -4.4916  \n",
       " assigned_treatment  1.63    0.496       3.28    1.0e-03  0.654    2.5977  \n",
       " x2                  0.31    0.418       0.74    4.6e-01 -0.511    1.1282  \n",
       " followup_time       0.34    0.244       1.38    1.7e-01 -0.141    0.8148  \n",
       " I(followup_time^2) -0.02    0.014      -1.42    1.5e-01 -0.049    0.0077  \n",
       " trial_period        7.29    0.978       7.45    9.1e-14  5.371    9.2040  \n",
       " I(trial_period^2)  -7.68    0.537     -14.31    1.8e-46 -8.737   -6.6325  \n",
       " \n",
       " null.deviance df.null logLik AIC BIC deviance df.residual nobs\n",
       " 158           800     -69.1  152 185 135      794         801 "
      ]
     },
     "metadata": {},
     "output_type": "display_data"
    }
   ],
   "source": [
    "trial_itt@outcome_model"
   ]
  },
  {
   "cell_type": "markdown",
   "id": "84ba8f3c",
   "metadata": {},
   "source": [
    "Depending on the model fitter used, we can also access the model object. For the default stats::glm logistic model, we have the glm object as well as the sandwich variance-covariance matrix."
   ]
  },
  {
   "cell_type": "code",
   "execution_count": 53,
   "id": "1ebe0e99",
   "metadata": {
    "vscode": {
     "languageId": "r"
    }
   },
   "outputs": [
    {
     "data": {
      "text/plain": [
       "\n",
       "Call:  glm(formula = formula, family = binomial(\"logit\"), data = data, \n",
       "    weights = weights, x = FALSE, y = FALSE)\n",
       "\n",
       "Coefficients:\n",
       "       (Intercept)  assigned_treatment                  x2       followup_time  \n",
       "          -6.02067             1.62585             0.30837             0.33673  \n",
       "I(followup_time^2)        trial_period   I(trial_period^2)  \n",
       "          -0.02049             7.28762            -7.68478  \n",
       "\n",
       "Degrees of Freedom: 800 Total (i.e. Null);  794 Residual\n",
       "Null Deviance:\t    157.8 \n",
       "Residual Deviance: 134.7 \tAIC: 152.2"
      ]
     },
     "metadata": {},
     "output_type": "display_data"
    }
   ],
   "source": [
    "trial_itt@outcome_model@fitted@model$model"
   ]
  },
  {
   "cell_type": "code",
   "execution_count": 54,
   "id": "6db22aa8",
   "metadata": {
    "vscode": {
     "languageId": "r"
    }
   },
   "outputs": [
    {
     "data": {
      "text/html": [
       "<table class=\"dataframe\">\n",
       "<caption>A matrix: 7 × 7 of type dbl</caption>\n",
       "<thead>\n",
       "\t<tr><th></th><th scope=col>(Intercept)</th><th scope=col>assigned_treatment</th><th scope=col>x2</th><th scope=col>followup_time</th><th scope=col>I(followup_time^2)</th><th scope=col>trial_period</th><th scope=col>I(trial_period^2)</th></tr>\n",
       "</thead>\n",
       "<tbody>\n",
       "\t<tr><th scope=row>(Intercept)</th><td> 0.608651263</td><td>-0.007606479</td><td> 0.042942422</td><td>-0.143451214</td><td> 0.0071306658</td><td>-0.10588545</td><td> 0.04905589</td></tr>\n",
       "\t<tr><th scope=row>assigned_treatment</th><td>-0.007606479</td><td> 0.245882729</td><td> 0.087953406</td><td>-0.052364376</td><td> 0.0028157357</td><td>-0.34160925</td><td> 0.16500968</td></tr>\n",
       "\t<tr><th scope=row>x2</th><td> 0.042942422</td><td> 0.087953406</td><td> 0.174977954</td><td>-0.045052691</td><td> 0.0028438066</td><td>-0.09744074</td><td> 0.04621905</td></tr>\n",
       "\t<tr><th scope=row>followup_time</th><td>-0.143451214</td><td>-0.052364376</td><td>-0.045052691</td><td> 0.059487800</td><td>-0.0033621580</td><td> 0.10445403</td><td>-0.05496908</td></tr>\n",
       "\t<tr><th scope=row>I(followup_time^2)</th><td> 0.007130666</td><td> 0.002815736</td><td> 0.002843807</td><td>-0.003362158</td><td> 0.0002067028</td><td>-0.00514379</td><td> 0.00265172</td></tr>\n",
       "\t<tr><th scope=row>trial_period</th><td>-0.105885453</td><td>-0.341609248</td><td>-0.097440741</td><td> 0.104454026</td><td>-0.0051437905</td><td> 0.95604134</td><td>-0.51334414</td></tr>\n",
       "\t<tr><th scope=row>I(trial_period^2)</th><td> 0.049055893</td><td> 0.165009684</td><td> 0.046219048</td><td>-0.054969078</td><td> 0.0026517200</td><td>-0.51328532</td><td> 0.28822666</td></tr>\n",
       "</tbody>\n",
       "</table>\n"
      ],
      "text/latex": [
       "A matrix: 7 × 7 of type dbl\n",
       "\\begin{tabular}{r|lllllll}\n",
       "  & (Intercept) & assigned\\_treatment & x2 & followup\\_time & I(followup\\_time\\textasciicircum{}2) & trial\\_period & I(trial\\_period\\textasciicircum{}2)\\\\\n",
       "\\hline\n",
       "\t(Intercept) &  0.608651263 & -0.007606479 &  0.042942422 & -0.143451214 &  0.0071306658 & -0.10588545 &  0.04905589\\\\\n",
       "\tassigned\\_treatment & -0.007606479 &  0.245882729 &  0.087953406 & -0.052364376 &  0.0028157357 & -0.34160925 &  0.16500968\\\\\n",
       "\tx2 &  0.042942422 &  0.087953406 &  0.174977954 & -0.045052691 &  0.0028438066 & -0.09744074 &  0.04621905\\\\\n",
       "\tfollowup\\_time & -0.143451214 & -0.052364376 & -0.045052691 &  0.059487800 & -0.0033621580 &  0.10445403 & -0.05496908\\\\\n",
       "\tI(followup\\_time\\textasciicircum{}2) &  0.007130666 &  0.002815736 &  0.002843807 & -0.003362158 &  0.0002067028 & -0.00514379 &  0.00265172\\\\\n",
       "\ttrial\\_period & -0.105885453 & -0.341609248 & -0.097440741 &  0.104454026 & -0.0051437905 &  0.95604134 & -0.51334414\\\\\n",
       "\tI(trial\\_period\\textasciicircum{}2) &  0.049055893 &  0.165009684 &  0.046219048 & -0.054969078 &  0.0026517200 & -0.51328532 &  0.28822666\\\\\n",
       "\\end{tabular}\n"
      ],
      "text/markdown": [
       "\n",
       "A matrix: 7 × 7 of type dbl\n",
       "\n",
       "| <!--/--> | (Intercept) | assigned_treatment | x2 | followup_time | I(followup_time^2) | trial_period | I(trial_period^2) |\n",
       "|---|---|---|---|---|---|---|---|\n",
       "| (Intercept) |  0.608651263 | -0.007606479 |  0.042942422 | -0.143451214 |  0.0071306658 | -0.10588545 |  0.04905589 |\n",
       "| assigned_treatment | -0.007606479 |  0.245882729 |  0.087953406 | -0.052364376 |  0.0028157357 | -0.34160925 |  0.16500968 |\n",
       "| x2 |  0.042942422 |  0.087953406 |  0.174977954 | -0.045052691 |  0.0028438066 | -0.09744074 |  0.04621905 |\n",
       "| followup_time | -0.143451214 | -0.052364376 | -0.045052691 |  0.059487800 | -0.0033621580 |  0.10445403 | -0.05496908 |\n",
       "| I(followup_time^2) |  0.007130666 |  0.002815736 |  0.002843807 | -0.003362158 |  0.0002067028 | -0.00514379 |  0.00265172 |\n",
       "| trial_period | -0.105885453 | -0.341609248 | -0.097440741 |  0.104454026 | -0.0051437905 |  0.95604134 | -0.51334414 |\n",
       "| I(trial_period^2) |  0.049055893 |  0.165009684 |  0.046219048 | -0.054969078 |  0.0026517200 | -0.51328532 |  0.28822666 |\n",
       "\n"
      ],
      "text/plain": [
       "                   (Intercept)  assigned_treatment x2           followup_time\n",
       "(Intercept)         0.608651263 -0.007606479        0.042942422 -0.143451214 \n",
       "assigned_treatment -0.007606479  0.245882729        0.087953406 -0.052364376 \n",
       "x2                  0.042942422  0.087953406        0.174977954 -0.045052691 \n",
       "followup_time      -0.143451214 -0.052364376       -0.045052691  0.059487800 \n",
       "I(followup_time^2)  0.007130666  0.002815736        0.002843807 -0.003362158 \n",
       "trial_period       -0.105885453 -0.341609248       -0.097440741  0.104454026 \n",
       "I(trial_period^2)   0.049055893  0.165009684        0.046219048 -0.054969078 \n",
       "                   I(followup_time^2) trial_period I(trial_period^2)\n",
       "(Intercept)         0.0071306658      -0.10588545   0.04905589      \n",
       "assigned_treatment  0.0028157357      -0.34160925   0.16500968      \n",
       "x2                  0.0028438066      -0.09744074   0.04621905      \n",
       "followup_time      -0.0033621580       0.10445403  -0.05496908      \n",
       "I(followup_time^2)  0.0002067028      -0.00514379   0.00265172      \n",
       "trial_period       -0.0051437905       0.95604134  -0.51334414      \n",
       "I(trial_period^2)   0.0026517200      -0.51328532   0.28822666      "
      ]
     },
     "metadata": {},
     "output_type": "display_data"
    }
   ],
   "source": [
    "trial_itt@outcome_model@fitted@model$vcov"
   ]
  },
  {
   "cell_type": "markdown",
   "id": "dd0b6cb1",
   "metadata": {},
   "source": [
    "The complete object shows all the specifications:"
   ]
  },
  {
   "cell_type": "code",
   "execution_count": 55,
   "id": "daba003b",
   "metadata": {
    "vscode": {
     "languageId": "r"
    }
   },
   "outputs": [
    {
     "data": {
      "text/plain": [
       "Trial Sequence Object \n",
       "Estimand: Intention-to-treat \n",
       " \n",
       "Data: \n",
       " - N: 725 observations from 89 patients \n",
       "        id period treatment    x1           x2    x3        x4   age      age_s\n",
       "     <int>  <int>     <num> <num>        <num> <int>     <num> <num>      <num>\n",
       "  1:     1      0         1     1  1.146148362     0 0.7342030    36 0.08333333\n",
       "  2:     1      1         1     1  0.002200337     0 0.7342030    37 0.16666667\n",
       " ---                                                                           \n",
       "724:    99      6         1     1 -0.033762356     1 0.5752681    71 3.00000000\n",
       "725:    99      7         0     0 -1.340496520     1 0.5752681    72 3.08333333\n",
       "     outcome censored eligible time_on_regime        wt       wtC\n",
       "       <num>    <int>    <num>          <num>     <num>     <num>\n",
       "  1:       0        0        1              0 0.9835463 0.9835463\n",
       "  2:       0        0        0              1 0.9429254 0.9429254\n",
       " ---                                                             \n",
       "724:       0        0        0              1 0.9440988 0.9440988\n",
       "725:       1        0        0              2 1.0092093 1.0092093\n",
       " \n",
       "IPW for informative censoring: \n",
       " - Numerator formula: 1 - censored ~ x2 \n",
       " - Denominator formula: 1 - censored ~ x2 + x1 \n",
       " - Numerator model is pooled across treatment arms. Denominator model is not pooled. \n",
       " - Model fitter type: te_stats_glm_logit \n",
       " - View weight model summaries with show_weight_models() \n",
       " \n",
       "Sequence of Trials Data: \n",
       "- Chunk size: 500 \n",
       "- Censor at switch: FALSE \n",
       "- First period: 0 | Last period: Inf \n",
       " \n",
       "A TE Datastore Datatable object \n",
       "N: 1558 observations \n",
       "         id trial_period followup_time outcome    weight treatment         x2\n",
       "      <int>        <int>         <int>   <num>     <num>     <num>      <num>\n",
       "   1:     1            0             0       0 1.0000000         1  1.1461484\n",
       "   2:     1            0             1       0 0.9429254         1  1.1461484\n",
       "  ---                                                                        \n",
       "1557:    99            0             6       0 0.8917236         1 -0.3463778\n",
       "1558:    99            0             7       1 0.8999358         0 -0.3463778\n",
       "      assigned_treatment\n",
       "                   <num>\n",
       "   1:                  1\n",
       "   2:                  1\n",
       "  ---                   \n",
       "1557:                  1\n",
       "1558:                  1\n",
       " \n",
       "Outcome model: \n",
       "- Formula: outcome ~ assigned_treatment + x2 + followup_time + I(followup_time^2) + trial_period + I(trial_period^2) \n",
       "- Treatment variable: assigned_treatment \n",
       "- Adjustment variables: x2 \n",
       "- Model fitter type: te_stats_glm_logit \n",
       " \n",
       "Model Summary: \n",
       " \n",
       " term               estimate std.error statistic p.value conf.low conf.high\n",
       " (Intercept)        -6.02    0.780      -7.72    1.2e-14 -7.550   -4.4916  \n",
       " assigned_treatment  1.63    0.496       3.28    1.0e-03  0.654    2.5977  \n",
       " x2                  0.31    0.418       0.74    4.6e-01 -0.511    1.1282  \n",
       " followup_time       0.34    0.244       1.38    1.7e-01 -0.141    0.8148  \n",
       " I(followup_time^2) -0.02    0.014      -1.42    1.5e-01 -0.049    0.0077  \n",
       " trial_period        7.29    0.978       7.45    9.1e-14  5.371    9.2040  \n",
       " I(trial_period^2)  -7.68    0.537     -14.31    1.8e-46 -8.737   -6.6325  \n",
       " \n",
       " null.deviance df.null logLik AIC BIC deviance df.residual nobs\n",
       " 158           800     -69.1  152 185 135      794         801 \n",
       " \n",
       "Outcome data \n",
       "N: 801 observations from 76 patients in 18 trial periods \n",
       "Periods: 0 1 2 3 4 5 6 7 8 9 10 11 12 13 14 15 16 17 \n",
       "Sampling control observations with probability: 0.5 \n",
       "        id trial_period followup_time outcome   weight treatment         x2\n",
       "     <int>        <int>         <int>   <num>    <num>     <num>      <num>\n",
       "  1:    15            0             0       1 1.000000         1 -0.7365256\n",
       "  2:    32            0             0       1 1.000000         1  1.9861380\n",
       " ---                                                                       \n",
       "800:    39            0            19       0 1.351756         1  0.2189413\n",
       "801:    54            0            19       0 1.359294         0  1.2924128\n",
       "     assigned_treatment sample_weight        w\n",
       "                  <num>         <num>    <num>\n",
       "  1:                  1             1 1.000000\n",
       "  2:                  1             1 1.000000\n",
       " ---                                          \n",
       "800:                  1             2 2.703512\n",
       "801:                  0             2 2.718587"
      ]
     },
     "metadata": {},
     "output_type": "display_data"
    }
   ],
   "source": [
    "trial_itt"
   ]
  },
  {
   "cell_type": "markdown",
   "id": "b3c982a6",
   "metadata": {},
   "source": [
    "***9. Inference***\n",
    "\n",
    "We use the predict() method to estimate survival probabilities or cumulative incidences for different values of assigned_treatment."
   ]
  },
  {
   "cell_type": "code",
   "execution_count": 56,
   "id": "b878f856",
   "metadata": {
    "vscode": {
     "languageId": "r"
    }
   },
   "outputs": [
    {
     "data": {
      "image/png": "[encoded data removed]",
      "text/plain": [
       "plot without title"
      ]
     },
     "metadata": {
      "image/png": {
       "height": 420,
       "width": 420
      }
     },
     "output_type": "display_data"
    }
   ],
   "source": [
    "preds <- predict(\n",
    "  trial_itt,\n",
    "  newdata       = outcome_data(trial_itt)[trial_period == 1, ],\n",
    "  predict_times = 0:10,\n",
    "  type          = \"survival\",\n",
    ")\n",
    "\n",
    "plot(preds$difference$followup_time, preds$difference$survival_diff,\n",
    "  type = \"l\", xlab = \"Follow up\", ylab = \"Survival difference\")\n",
    "lines(preds$difference$followup_time, preds$difference$`2.5%`, type = \"l\", col = \"red\", lty = 2)\n",
    "lines(preds$difference$followup_time, preds$difference$`97.5%`, type = \"l\", col = \"red\", lty = 2)"
   ]
  },
  {
   "cell_type": "code",
   "execution_count": null,
   "id": "45c4d743",
   "metadata": {
    "vscode": {
     "languageId": "r"
    }
   },
   "outputs": [],
   "source": []
  }
 ],
 "metadata": {
  "kernelspec": {
   "display_name": "R",
   "language": "R",
   "name": "ir"
  },
  "language_info": {
   "codemirror_mode": "r",
   "file_extension": ".r",
   "mimetype": "text/x-r-source",
   "name": "R",
   "pygments_lexer": "r",
   "version": "4.4.3"
  }
 },
 "nbformat": 4,
 "nbformat_minor": 5
}
